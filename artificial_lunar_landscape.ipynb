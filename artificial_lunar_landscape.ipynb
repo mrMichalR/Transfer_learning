{
  "nbformat": 4,
  "nbformat_minor": 0,
  "metadata": {
    "colab": {
      "provenance": [],
      "authorship_tag": "ABX9TyNtEwe7ydOVPtjgZj4mmOoQ",
      "include_colab_link": true
    },
    "kernelspec": {
      "name": "python3",
      "display_name": "Python 3"
    },
    "language_info": {
      "name": "python"
    },
    "accelerator": "GPU",
    "gpuClass": "standard"
  },
  "cells": [
    {
      "cell_type": "markdown",
      "metadata": {
        "id": "view-in-github",
        "colab_type": "text"
      },
      "source": [
        "<a href=\"https://colab.research.google.com/github/mrMichalR/Transfer_learning/blob/main/artificial_lunar_landscape.ipynb\" target=\"_parent\"><img src=\"https://colab.research.google.com/assets/colab-badge.svg\" alt=\"Open In Colab\"/></a>"
      ]
    },
    {
      "cell_type": "code",
      "source": [
        "!pip install opendatasets\n",
        "!pip install torch torchvision\n",
        "# !pip install segmentation_models\n",
        "!pip install -q -U segmentation-models-pytorch albumentations > /dev/null"
      ],
      "metadata": {
        "colab": {
          "base_uri": "https://localhost:8080/"
        },
        "id": "sfbeYoQE6cs3",
        "outputId": "5eaba3a9-19db-43ce-82fb-e5110b6a2fdd"
      },
      "execution_count": 34,
      "outputs": [
        {
          "output_type": "stream",
          "name": "stdout",
          "text": [
            "Collecting opendatasets\n",
            "  Downloading opendatasets-0.1.22-py3-none-any.whl (15 kB)\n",
            "Requirement already satisfied: tqdm in /usr/local/lib/python3.10/dist-packages (from opendatasets) (4.65.0)\n",
            "Requirement already satisfied: kaggle in /usr/local/lib/python3.10/dist-packages (from opendatasets) (1.5.13)\n",
            "Requirement already satisfied: click in /usr/local/lib/python3.10/dist-packages (from opendatasets) (8.1.3)\n",
            "Requirement already satisfied: six>=1.10 in /usr/local/lib/python3.10/dist-packages (from kaggle->opendatasets) (1.16.0)\n",
            "Requirement already satisfied: certifi in /usr/local/lib/python3.10/dist-packages (from kaggle->opendatasets) (2023.5.7)\n",
            "Requirement already satisfied: python-dateutil in /usr/local/lib/python3.10/dist-packages (from kaggle->opendatasets) (2.8.2)\n",
            "Requirement already satisfied: requests in /usr/local/lib/python3.10/dist-packages (from kaggle->opendatasets) (2.27.1)\n",
            "Requirement already satisfied: python-slugify in /usr/local/lib/python3.10/dist-packages (from kaggle->opendatasets) (8.0.1)\n",
            "Requirement already satisfied: urllib3 in /usr/local/lib/python3.10/dist-packages (from kaggle->opendatasets) (1.26.16)\n",
            "Requirement already satisfied: text-unidecode>=1.3 in /usr/local/lib/python3.10/dist-packages (from python-slugify->kaggle->opendatasets) (1.3)\n",
            "Requirement already satisfied: charset-normalizer~=2.0.0 in /usr/local/lib/python3.10/dist-packages (from requests->kaggle->opendatasets) (2.0.12)\n",
            "Requirement already satisfied: idna<4,>=2.5 in /usr/local/lib/python3.10/dist-packages (from requests->kaggle->opendatasets) (3.4)\n",
            "Installing collected packages: opendatasets\n",
            "Successfully installed opendatasets-0.1.22\n",
            "Requirement already satisfied: torch in /usr/local/lib/python3.10/dist-packages (2.0.1+cu118)\n",
            "Requirement already satisfied: torchvision in /usr/local/lib/python3.10/dist-packages (0.15.2+cu118)\n",
            "Requirement already satisfied: filelock in /usr/local/lib/python3.10/dist-packages (from torch) (3.12.2)\n",
            "Requirement already satisfied: typing-extensions in /usr/local/lib/python3.10/dist-packages (from torch) (4.6.3)\n",
            "Requirement already satisfied: sympy in /usr/local/lib/python3.10/dist-packages (from torch) (1.11.1)\n",
            "Requirement already satisfied: networkx in /usr/local/lib/python3.10/dist-packages (from torch) (3.1)\n",
            "Requirement already satisfied: jinja2 in /usr/local/lib/python3.10/dist-packages (from torch) (3.1.2)\n",
            "Requirement already satisfied: triton==2.0.0 in /usr/local/lib/python3.10/dist-packages (from torch) (2.0.0)\n",
            "Requirement already satisfied: cmake in /usr/local/lib/python3.10/dist-packages (from triton==2.0.0->torch) (3.25.2)\n",
            "Requirement already satisfied: lit in /usr/local/lib/python3.10/dist-packages (from triton==2.0.0->torch) (16.0.6)\n",
            "Requirement already satisfied: numpy in /usr/local/lib/python3.10/dist-packages (from torchvision) (1.22.4)\n",
            "Requirement already satisfied: requests in /usr/local/lib/python3.10/dist-packages (from torchvision) (2.27.1)\n",
            "Requirement already satisfied: pillow!=8.3.*,>=5.3.0 in /usr/local/lib/python3.10/dist-packages (from torchvision) (8.4.0)\n",
            "Requirement already satisfied: MarkupSafe>=2.0 in /usr/local/lib/python3.10/dist-packages (from jinja2->torch) (2.1.3)\n",
            "Requirement already satisfied: urllib3<1.27,>=1.21.1 in /usr/local/lib/python3.10/dist-packages (from requests->torchvision) (1.26.16)\n",
            "Requirement already satisfied: certifi>=2017.4.17 in /usr/local/lib/python3.10/dist-packages (from requests->torchvision) (2023.5.7)\n",
            "Requirement already satisfied: charset-normalizer~=2.0.0 in /usr/local/lib/python3.10/dist-packages (from requests->torchvision) (2.0.12)\n",
            "Requirement already satisfied: idna<4,>=2.5 in /usr/local/lib/python3.10/dist-packages (from requests->torchvision) (3.4)\n",
            "Requirement already satisfied: mpmath>=0.19 in /usr/local/lib/python3.10/dist-packages (from sympy->torch) (1.3.0)\n"
          ]
        }
      ]
    },
    {
      "cell_type": "markdown",
      "source": [
        "# Training an image classifier\n",
        "https://pytorch.org/tutorials/beginner/blitz/cifar10_tutorial.html"
      ],
      "metadata": {
        "id": "dB9hQFn78Pv1"
      }
    },
    {
      "cell_type": "code",
      "execution_count": 35,
      "metadata": {
        "id": "dlLjg5R37_Zx",
        "colab": {
          "base_uri": "https://localhost:8080/"
        },
        "outputId": "c1255952-4751-4229-b82b-42bee91c80ba"
      },
      "outputs": [
        {
          "output_type": "stream",
          "name": "stdout",
          "text": [
            "Drive already mounted at /content/drive; to attempt to forcibly remount, call drive.mount(\"/content/drive\", force_remount=True).\n"
          ]
        }
      ],
      "source": [
        "import torch\n",
        "import torchvision\n",
        "import torchvision.transforms as transforms\n",
        "import torchvision.datasets as datasets\n",
        "from torch.utils.data import DataLoader, Dataset\n",
        "import tensorflow as tf\n",
        "import keras\n",
        "import os\n",
        "from os import listdir\n",
        "from PIL import Image as PImage\n",
        "# os.environ[\"SM_FRAMEWORK\"] = \"tf.keras\"\n",
        "# from tensorflow import keras\n",
        "# import segmentation_models as sm\n",
        "import segmentation_models_pytorch as smp\n",
        "from segmentation_models_pytorch.encoders import get_preprocessing_fn\n",
        "\n",
        "import matplotlib.pyplot as plt\n",
        "import numpy as np\n",
        "import warnings\n",
        "warnings.filterwarnings(\"ignore\")\n",
        "import torch.nn as nn\n",
        "from torch.utils.data import DataLoader\n",
        "import albumentations as album\n",
        "import torch.nn.functional as F\n",
        "from tqdm import tqdm\n",
        "from sklearn.model_selection import train_test_split\n",
        "\n",
        "# from torch import nn\n",
        "from torchvision.transforms import ToTensor\n",
        "from torchvision.datasets import ImageFolder\n",
        "import matplotlib.pyplot as plt\n",
        "\n",
        "import pandas as pd\n",
        "from torchvision.io import read_image\n",
        "import cv2\n",
        "\n",
        "from google.colab import drive\n",
        "drive.mount('/content/drive')"
      ]
    },
    {
      "cell_type": "code",
      "source": [
        "# #!/usr/bin/python\n",
        "# import os\n",
        "# from os import listdir\n",
        "# from PIL import Image as PImage\n",
        "\n",
        "# def loadImages(path):\n",
        "#     # return array of images\n",
        "\n",
        "#     imagesList = listdir(path)\n",
        "#     loadedImages = []\n",
        "#     for image in imagesList:\n",
        "#         img = PImage.open(path + image)\n",
        "#         loadedImages.append(img)\n",
        "\n",
        "#     return loadedImages\n",
        "# ROOT = '/content/drive/MyDrive/week4/images'\n",
        "# RENDER_IMAGE_DIR_PATH = os.path.join(ROOT, 'render/')\n",
        "# GROUND_MASK_DIR_PATH = os.path.join(ROOT, 'clean/')\n",
        "\n",
        "# # your images in an array\n",
        "# render = loadImages(RENDER_IMAGE_DIR_PATH)\n",
        "# mask = loadImages(RENDER_IMAGE_DIR_PATH)\n",
        "\n",
        "# render[0:5]\n",
        "\n",
        "# for img in render[0:5]:\n",
        "#     # you can show every image\n",
        "#     img.show()"
      ],
      "metadata": {
        "id": "4klELzDk2yin"
      },
      "execution_count": 27,
      "outputs": []
    },
    {
      "cell_type": "code",
      "source": [
        "/content/artificial-lunar-rocky-landscape-dataset/images"
      ],
      "metadata": {
        "id": "Gsk-KOjJZep8"
      },
      "execution_count": null,
      "outputs": []
    },
    {
      "cell_type": "code",
      "source": [
        "import opendatasets as od\n",
        "\n",
        "dataset_url = 'https://www.kaggle.com/datasets/romainpessia/artificial-lunar-rocky-landscape-dataset/download?datasetVersionNumber=6'\n",
        "od.download(dataset_url)"
      ],
      "metadata": {
        "id": "_kgei1ZUzmRY",
        "colab": {
          "base_uri": "https://localhost:8080/"
        },
        "outputId": "8b1fc6a4-26a9-4397-a6a5-c63004efcd4a"
      },
      "execution_count": 36,
      "outputs": [
        {
          "output_type": "stream",
          "name": "stdout",
          "text": [
            "Please provide your Kaggle credentials to download this dataset. Learn more: http://bit.ly/kaggle-creds\n",
            "Your Kaggle username: micharobak\n",
            "Your Kaggle Key: ··········\n",
            "Downloading artificial-lunar-rocky-landscape-dataset.zip to ./artificial-lunar-rocky-landscape-dataset\n"
          ]
        },
        {
          "output_type": "stream",
          "name": "stderr",
          "text": [
            "100%|██████████| 5.02G/5.02G [01:00<00:00, 89.2MB/s]\n"
          ]
        },
        {
          "output_type": "stream",
          "name": "stdout",
          "text": [
            "\n"
          ]
        }
      ]
    },
    {
      "cell_type": "markdown",
      "source": [
        "https://www.kaggle.com/code/balraj98/unet-for-building-segmentation-pytorch\n",
        "\n",
        "https://www.kaggle.com/code/shubhamptrivedi/transferlearning-u-net-for-segmenting-lunar-image#notebook-container\n",
        "\n",
        "https://www.kaggle.com/code/carloalbertobarbano/vgg16-transfer-learning-pytorch\n",
        "\n",
        "https://pytorch.org/tutorials/beginner/transfer_learning_tutorial.html\n",
        "\n",
        "\n",
        "\n",
        "https://colab.research.google.com/github/qubvel/segmentation_models.pytorch/blob/master/examples/binary_segmentation_intro.ipynb#scrollTo=O4nq08ILaYhn\n",
        "\n",
        "https://colab.research.google.com/github/catalyst-team/catalyst/blob/v21.02rc0/examples/notebooks/segmentation-tutorial.ipynb#scrollTo=g4Vqm9FzY254\n"
      ],
      "metadata": {
        "id": "hzMv7ZQmgAuX"
      }
    },
    {
      "cell_type": "markdown",
      "source": [
        "# Necessary functions"
      ],
      "metadata": {
        "id": "sxVw35QmoIEA"
      }
    },
    {
      "cell_type": "code",
      "source": [
        "ROOT = '/content/artificial-lunar-rocky-landscape-dataset/images'\n",
        "CLEAN = '/content/artificial-lunar-rocky-landscape-dataset/images/clean'\n",
        "GROUND = '/content/artificial-lunar-rocky-landscape-dataset/images/ground'\n",
        "RENDER = '/content/artificial-lunar-rocky-landscape-dataset/images/render'\n",
        "\n",
        "BATCH_SIZE = 4\n",
        "H = 480\n",
        "W = 480"
      ],
      "metadata": {
        "id": "5K9Vyglt_uMy"
      },
      "execution_count": 39,
      "outputs": []
    },
    {
      "cell_type": "code",
      "source": [
        "'''This function is used to return the list of path for images and masks in\n",
        "sorted order from the given directory respectively.'''\n",
        "# function to return list of image paths and mask paths\n",
        "def process_data(IMG_DIR, MASK_DIR):\n",
        "    images = [os.path.join(IMG_DIR, x) for x in sorted(os.listdir(IMG_DIR))]\n",
        "    masks = [os.path.join(MASK_DIR, x) for x in sorted(os.listdir(MASK_DIR))]\n",
        "\n",
        "    return images, masks\n",
        "\n",
        "'''This function is used to return splitted list of images and corresponding\n",
        "mask paths in train and test by providing test size.'''\n",
        "# function to load data and train test split\n",
        "def load_data(IMG_DIR, MASK_DIR):\n",
        "    X, y = process_data(IMG_DIR, MASK_DIR)\n",
        "    X_train, X_test, y_train, y_test = train_test_split(X, y, test_size=0.2, random_state=42)\n",
        "    return X_train, X_test, y_train, y_test\n",
        "\n",
        "'''This function is used to read images. It takes image path as input.\n",
        "After reading image it is resized by width and height provide above(480 x 480).\n",
        "Next normalization is done by dividing each values with 255. And the result is returned.'''\n",
        "# function to read image\n",
        "def read_image(x):\n",
        "    x = cv2.imread(x, cv2.IMREAD_COLOR)\n",
        "    x = cv2.resize(x, (W, H))\n",
        "    x = x / 255.0\n",
        "    x = x.astype(np.float32)\n",
        "    return x\n",
        "\n",
        "'''This function is used to read masks.'''\n",
        "# function to read mask\n",
        "def read_mask(x):\n",
        "    x = cv2.imread(x, cv2.IMREAD_GRAYSCALE)\n",
        "    x = cv2.resize(x, (W, H))\n",
        "    x = x.astype(np.int32)\n",
        "    return x\n",
        "\n",
        "# '''This function is used to generate tensorflow data pipeline.\n",
        "# The tensorflow data pipeline is mapped to function ‘preprocess’ .'''\n",
        "# # function for tensorflow dataset pipeline\n",
        "# def tf_dataset(x, y, batch=8):\n",
        "#     dataset = tf.data.Dataset.from_tensor_slices((x, y))\n",
        "#     dataset = dataset.shuffle(buffer_size=5000)\n",
        "#     dataset = dataset.map(preprocess)\n",
        "#     dataset = dataset.batch(batch)\n",
        "#     dataset = dataset.repeat()\n",
        "#     dataset = dataset.prefetch(2)\n",
        "#     return dataset\n",
        "\n",
        "'''This function takes image and mask path.\n",
        "It reads the image and mask as provided by paths.\n",
        "Mask is one hot encoded for multi class segmentation (here 4 class).'''\n",
        "# function to read image and mask amd create one hot encoding for mask\n",
        "def preprocess(x, y):\n",
        "    def f(x, y):\n",
        "        x = x.decode()\n",
        "        y = y.decode()\n",
        "\n",
        "        image = read_image(x)\n",
        "        mask = read_mask(y)\n",
        "\n",
        "        return image, mask\n",
        "\n",
        "    image, mask = tf.numpy_function(f, [x, y], [tf.float32, tf.int32])\n",
        "    mask = tf.one_hot(mask, 4, dtype=tf.int32)\n",
        "    image.set_shape([H, W, 3])\n",
        "    mask.set_shape([H, W, 4])\n",
        "\n",
        "    return image, mask"
      ],
      "metadata": {
        "id": "wh7jbQ5zJo0s"
      },
      "execution_count": 40,
      "outputs": []
    },
    {
      "cell_type": "code",
      "source": [
        "# count = 0\n",
        "# # Iterate directory\n",
        "# for path in os.listdir(RENDER):\n",
        "#     # check if current path is a file\n",
        "#     if os.path.isfile(os.path.join(RENDER, path)):\n",
        "#         count += 1\n",
        "# print('File count:', count)\n",
        "\n",
        "# count2 = 0\n",
        "# # Iterate directory\n",
        "# for path in os.listdir(CLEAN):\n",
        "#     # check if current path is a file\n",
        "#     if os.path.isfile(os.path.join(CLEAN, path)):\n",
        "#         count2 += 1\n",
        "# print('File count:', count2)"
      ],
      "metadata": {
        "colab": {
          "base_uri": "https://localhost:8080/"
        },
        "id": "whEZXeYvOdOa",
        "outputId": "05f51849-8b3b-478f-c714-33547efafc58"
      },
      "execution_count": 32,
      "outputs": [
        {
          "output_type": "stream",
          "name": "stdout",
          "text": [
            "File count: 9776\n",
            "File count: 9766\n"
          ]
        }
      ]
    },
    {
      "cell_type": "code",
      "source": [
        "X_train, X_test, y_train, y_test = load_data(RENDER, CLEAN)\n",
        "print(f\"Dataset:\\n Train: {len(X_train)} \\n Test: {len(X_test)}\")"
      ],
      "metadata": {
        "colab": {
          "base_uri": "https://localhost:8080/"
        },
        "id": "xR8iA6Er01_X",
        "outputId": "ec6f75a1-c89b-492d-bdb9-61e2e9dd4c16"
      },
      "execution_count": 41,
      "outputs": [
        {
          "output_type": "stream",
          "name": "stdout",
          "text": [
            "Dataset:\n",
            " Train: 7812 \n",
            " Test: 1954\n"
          ]
        }
      ]
    },
    {
      "cell_type": "markdown",
      "source": [
        "# Load data"
      ],
      "metadata": {
        "id": "radHC4mrcprI"
      }
    },
    {
      "cell_type": "markdown",
      "source": [
        "# Data augmentation"
      ],
      "metadata": {
        "id": "GEf-lmgmcfPq"
      }
    },
    {
      "cell_type": "code",
      "source": [
        "# the training transforms\n",
        "train_transform = transforms.Compose([\n",
        "    transforms.Resize((H, W)),\n",
        "    transforms.RandomHorizontalFlip(p=0.5),\n",
        "    transforms.RandomVerticalFlip(p=0.5),\n",
        "    transforms.GaussianBlur(kernel_size=(5, 9), sigma=(0.1, 5)),\n",
        "    transforms.RandomRotation(degrees=(30, 70)),\n",
        "    transforms.ToTensor(),\n",
        "    transforms.Normalize([0.485, 0.456, 0.406], [0.229, 0.224, 0.225])])\n",
        "\n",
        "# the validation transforms\n",
        "valid_transform = transforms.Compose([\n",
        "    transforms.Resize((H, W)),\n",
        "    transforms.ToTensor(),\n",
        "    transforms.Normalize([0.485, 0.456, 0.406], [0.229, 0.224, 0.225])])"
      ],
      "metadata": {
        "id": "gMaKL7j1ZzL8"
      },
      "execution_count": 42,
      "outputs": []
    },
    {
      "cell_type": "code",
      "source": [
        "# training dataset\n",
        "train_dataset = torchvision.datasets.ImageFolder(root=ROOT, transform=train_transform)\n",
        "train_class_names = train_dataset.classes\n",
        "print(train_class_names)\n",
        "# validation dataset\n",
        "valid_dataset = torchvision.datasets.ImageFolder(root=ROOT, transform=valid_transform)\n",
        "val_class_names = valid_dataset.classes\n",
        "print(val_class_names)"
      ],
      "metadata": {
        "colab": {
          "base_uri": "https://localhost:8080/"
        },
        "id": "lAyEZuNMTBOB",
        "outputId": "870294b4-dfd0-4853-fefe-373b7068b279"
      },
      "execution_count": 43,
      "outputs": [
        {
          "output_type": "stream",
          "name": "stdout",
          "text": [
            "['clean', 'ground', 'render']\n",
            "['clean', 'ground', 'render']\n"
          ]
        }
      ]
    },
    {
      "cell_type": "code",
      "source": [
        "n_cpu = os.cpu_count()\n",
        "# training data loaders\n",
        "train_loader = DataLoader(\n",
        "    train_dataset,\n",
        "    batch_size=BATCH_SIZE,\n",
        "    shuffle=True,\n",
        "    num_workers=n_cpu,\n",
        "    collate_fn=None,\n",
        "    pin_memory=False,\n",
        ")\n",
        "\n",
        "# validation data loaders\n",
        "valid_loader = DataLoader(\n",
        "    valid_dataset,\n",
        "    batch_size=BATCH_SIZE,\n",
        "    shuffle=False,\n",
        "    num_workers=n_cpu,\n",
        "    collate_fn=None,\n",
        "    pin_memory=False,\n",
        "\n",
        ")\n",
        "device = torch.device(\"cuda:0\" if torch.cuda.is_available() else \"cpu\")"
      ],
      "metadata": {
        "id": "nPCQu54sTEMf"
      },
      "execution_count": 44,
      "outputs": []
    },
    {
      "cell_type": "code",
      "source": [
        "def imshow(inp, title=None):\n",
        "    \"\"\"Display image for Tensor.\"\"\"\n",
        "    inp = inp.numpy().transpose((1, 2, 0))\n",
        "    mean = np.array([0.485, 0.456, 0.406])\n",
        "    std = np.array([0.229, 0.224, 0.225])\n",
        "    inp = std * inp + mean\n",
        "    inp = np.clip(inp, 0, 1)\n",
        "    plt.imshow(inp)\n",
        "    if title is not None:\n",
        "        plt.title(title)\n",
        "    plt.pause(0.001)  # pause a bit so that plots are updated\n",
        "\n",
        "\n",
        "# Get a batch of training data\n",
        "inputs, classes = next(iter(train_loader))\n",
        "\n",
        "# Make a grid from batch\n",
        "out = torchvision.utils.make_grid(inputs)\n",
        "\n",
        "imshow(out, title=[train_class_names[x] for x in classes])"
      ],
      "metadata": {
        "colab": {
          "base_uri": "https://localhost:8080/",
          "height": 207
        },
        "id": "1UebAtyQTdGO",
        "outputId": "8510b0e8-26b5-4e55-cc2f-4d1dd9be6ab4"
      },
      "execution_count": 45,
      "outputs": [
        {
          "output_type": "display_data",
          "data": {
            "text/plain": [
              "<Figure size 640x480 with 1 Axes>"
            ],
            "image/png": "[encoded data removed]"
          },
          "metadata": {}
        }
      ]
    },
    {
      "cell_type": "markdown",
      "source": [
        "https://medium.com/jun94-devpblog/pytorch-1-transform-imagefolder-dataloader-7f75f0a460c0"
      ],
      "metadata": {
        "id": "E_maJDO7Iwjm"
      }
    },
    {
      "cell_type": "code",
      "source": [
        "# root = os.path.join(os.getcwd(),'drive/MyDrive/week4/images')\n",
        "# def get_data_loader(data_dir= root, batch_size=2, train = True):\n",
        "#     \"\"\"\n",
        "#     Define the way we compose the batch dataset including the augmentation for increasing the number of data\n",
        "#     and return the augmented batch-dataset\n",
        "#     :param data_dir: root directory where the either train or test dataset is\n",
        "#     :param batch_size: size of the batch\n",
        "#     :param train: true if current phase is training, else false\n",
        "#     :return: augmented batch dataset\n",
        "#     \"\"\"\n",
        "\n",
        "#     # define how we augment the data for composing the batch-dataset in train and test step\n",
        "#     transform = {\n",
        "#         'train': transforms.Compose([\n",
        "#             transforms.Resize([224,224]), # Resizing the image as the VGG only take 224 x 244 as input size\n",
        "#             transforms.RandomHorizontalFlip(), # Flip the data horizontally\n",
        "#             #TODO if it is needed, add the random crop\n",
        "#             transforms.ToTensor(),\n",
        "#             transforms.Normalize(mean=(0.5,0.5,0.5), std=(0.5,0.5,0.5))\n",
        "#         ]),\n",
        "#         'test': transforms.Compose([\n",
        "#             transforms.Resize([224,224]),\n",
        "#             transforms.RandomHorizontalFlip(),\n",
        "#             transforms.ToTensor(),\n",
        "#             transforms.Normalize(mean=(0.5,0.5,0.5), std=(0.5,0.5,0.5))\n",
        "#         ])\n",
        "#     }\n",
        "\n",
        "#     # ImageFloder with root directory and defined transformation methods for batch as well as data augmentation\n",
        "#     data = torchvision.datasets.ImageFolder(root=data_dir, transform=transform['train'] if train else 'test')\n",
        "#     data_loader = torch.utils.data.DataLoader(dataset=data, batch_size=batch_size, shuffle=True, num_workers=4)\n",
        "\n",
        "#     return data_loader\n",
        "\n",
        "\n",
        "# # The way to get one batch from the data_loader\n",
        "# if __name__ == \"__main__\":\n",
        "#     torch.multiprocessing.freeze_support()\n",
        "#     data_loader = get_data_loader()\n",
        "\n",
        "#     for i in range(10):\n",
        "#         batch_x, batch_y = next(iter(data_loader))\n",
        "#         print(np.shape(batch_x), batch_y)"
      ],
      "metadata": {
        "id": "agS1eyCfHXtT",
        "colab": {
          "base_uri": "https://localhost:8080/",
          "height": 339
        },
        "outputId": "a0de2a6b-2285-4755-a687-d8f0ee37167d"
      },
      "execution_count": null,
      "outputs": [
        {
          "output_type": "stream",
          "name": "stdout",
          "text": [
            "torch.Size([2, 3, 224, 224]) tensor([2, 2])\n"
          ]
        },
        {
          "output_type": "error",
          "ename": "ValueError",
          "evalue": "ignored",
          "traceback": [
            "\u001b[0;31m---------------------------------------------------------------------------\u001b[0m",
            "\u001b[0;31mValueError\u001b[0m                                Traceback (most recent call last)",
            "\u001b[0;32m<ipython-input-12-77fadcec54fd>\u001b[0m in \u001b[0;36m<cell line: 37>\u001b[0;34m()\u001b[0m\n\u001b[1;32m     42\u001b[0m         \u001b[0mbatch_x\u001b[0m\u001b[0;34m,\u001b[0m \u001b[0mbatch_y\u001b[0m \u001b[0;34m=\u001b[0m \u001b[0mnext\u001b[0m\u001b[0;34m(\u001b[0m\u001b[0miter\u001b[0m\u001b[0;34m(\u001b[0m\u001b[0mdata_loader\u001b[0m\u001b[0;34m)\u001b[0m\u001b[0;34m)\u001b[0m\u001b[0;34m\u001b[0m\u001b[0;34m\u001b[0m\u001b[0m\n\u001b[1;32m     43\u001b[0m         \u001b[0mprint\u001b[0m\u001b[0;34m(\u001b[0m\u001b[0mnp\u001b[0m\u001b[0;34m.\u001b[0m\u001b[0mshape\u001b[0m\u001b[0;34m(\u001b[0m\u001b[0mbatch_x\u001b[0m\u001b[0;34m)\u001b[0m\u001b[0;34m,\u001b[0m \u001b[0mbatch_y\u001b[0m\u001b[0;34m)\u001b[0m\u001b[0;34m\u001b[0m\u001b[0;34m\u001b[0m\u001b[0m\n\u001b[0;32m---> 44\u001b[0;31m         \u001b[0mimshow\u001b[0m\u001b[0;34m(\u001b[0m\u001b[0mbatch_x\u001b[0m\u001b[0;34m,\u001b[0m \u001b[0mtitle\u001b[0m\u001b[0;34m=\u001b[0m\u001b[0;34m[\u001b[0m\u001b[0mtrain_class_names\u001b[0m\u001b[0;34m[\u001b[0m\u001b[0mx\u001b[0m\u001b[0;34m]\u001b[0m \u001b[0;32mfor\u001b[0m \u001b[0mx\u001b[0m \u001b[0;32min\u001b[0m \u001b[0mbatch_y\u001b[0m\u001b[0;34m]\u001b[0m\u001b[0;34m)\u001b[0m\u001b[0;34m\u001b[0m\u001b[0;34m\u001b[0m\u001b[0m\n\u001b[0m",
            "\u001b[0;32m<ipython-input-11-464808b1c5eb>\u001b[0m in \u001b[0;36mimshow\u001b[0;34m(inp, title)\u001b[0m\n\u001b[1;32m      1\u001b[0m \u001b[0;32mdef\u001b[0m \u001b[0mimshow\u001b[0m\u001b[0;34m(\u001b[0m\u001b[0minp\u001b[0m\u001b[0;34m,\u001b[0m \u001b[0mtitle\u001b[0m\u001b[0;34m=\u001b[0m\u001b[0;32mNone\u001b[0m\u001b[0;34m)\u001b[0m\u001b[0;34m:\u001b[0m\u001b[0;34m\u001b[0m\u001b[0;34m\u001b[0m\u001b[0m\n\u001b[1;32m      2\u001b[0m     \u001b[0;34m\"\"\"Display image for Tensor.\"\"\"\u001b[0m\u001b[0;34m\u001b[0m\u001b[0;34m\u001b[0m\u001b[0m\n\u001b[0;32m----> 3\u001b[0;31m     \u001b[0minp\u001b[0m \u001b[0;34m=\u001b[0m \u001b[0minp\u001b[0m\u001b[0;34m.\u001b[0m\u001b[0mnumpy\u001b[0m\u001b[0;34m(\u001b[0m\u001b[0;34m)\u001b[0m\u001b[0;34m.\u001b[0m\u001b[0mtranspose\u001b[0m\u001b[0;34m(\u001b[0m\u001b[0;34m(\u001b[0m\u001b[0;36m1\u001b[0m\u001b[0;34m,\u001b[0m \u001b[0;36m2\u001b[0m\u001b[0;34m,\u001b[0m \u001b[0;36m0\u001b[0m\u001b[0;34m)\u001b[0m\u001b[0;34m)\u001b[0m\u001b[0;34m\u001b[0m\u001b[0;34m\u001b[0m\u001b[0m\n\u001b[0m\u001b[1;32m      4\u001b[0m     \u001b[0mmean\u001b[0m \u001b[0;34m=\u001b[0m \u001b[0mnp\u001b[0m\u001b[0;34m.\u001b[0m\u001b[0marray\u001b[0m\u001b[0;34m(\u001b[0m\u001b[0;34m[\u001b[0m\u001b[0;36m0.485\u001b[0m\u001b[0;34m,\u001b[0m \u001b[0;36m0.456\u001b[0m\u001b[0;34m,\u001b[0m \u001b[0;36m0.406\u001b[0m\u001b[0;34m]\u001b[0m\u001b[0;34m)\u001b[0m\u001b[0;34m\u001b[0m\u001b[0;34m\u001b[0m\u001b[0m\n\u001b[1;32m      5\u001b[0m     \u001b[0mstd\u001b[0m \u001b[0;34m=\u001b[0m \u001b[0mnp\u001b[0m\u001b[0;34m.\u001b[0m\u001b[0marray\u001b[0m\u001b[0;34m(\u001b[0m\u001b[0;34m[\u001b[0m\u001b[0;36m0.229\u001b[0m\u001b[0;34m,\u001b[0m \u001b[0;36m0.224\u001b[0m\u001b[0;34m,\u001b[0m \u001b[0;36m0.225\u001b[0m\u001b[0;34m]\u001b[0m\u001b[0;34m)\u001b[0m\u001b[0;34m\u001b[0m\u001b[0;34m\u001b[0m\u001b[0m\n",
            "\u001b[0;31mValueError\u001b[0m: axes don't match array"
          ]
        }
      ]
    },
    {
      "cell_type": "markdown",
      "source": [
        "# Transfer learning"
      ],
      "metadata": {
        "id": "84itq3jycX-t"
      }
    },
    {
      "cell_type": "markdown",
      "source": [
        "https://pyimagesearch.com/2021/11/08/u-net-training-image-segmentation-models-in-pytorch/"
      ],
      "metadata": {
        "id": "zVQGKmlVLr1o"
      }
    },
    {
      "cell_type": "code",
      "source": [
        "model = smp.Unet(\n",
        "    encoder_name=\"resnet34\",        # choose encoder, e.g. mobilenet_v2 or efficientnet-b7\n",
        "    encoder_weights=\"imagenet\",     # use `imagenet` pre-trained weights for encoder initialization\n",
        "    in_channels=1,                  # model input channels (1 for gray-scale images, 3 for RGB, etc.)\n",
        "    classes=4,                      # model output channels (number of classes in your dataset)\n",
        ")\n",
        "\n",
        "preprocess_input = get_preprocessing_fn('resnet18', pretrained='imagenet')\n",
        "\n",
        "# model = smp.FPN('resnet34', in_channels=1)\n",
        "# mask = model(torch.ones([1, 1, 64, 64]))"
      ],
      "metadata": {
        "id": "dPhJUAezqSWg"
      },
      "execution_count": null,
      "outputs": []
    },
    {
      "cell_type": "code",
      "source": [
        "# In the default assignment notebook unet architecture was implemented using the sequential API. But that was not very efficient and got very un satisfying results. Thus here i have implemented the Transfer learning technique using VGG-16 to build the unet architecture from the pre-trained vgg model.\n",
        "\n",
        "#### Step 1: Creating a base model\n",
        "IMG_SHAPE = (480, 480, 3)\n",
        "\n",
        "# include_top specify that we don't want to use the top layer (classifier)\n",
        "base_model = tf.keras.applications.VGG16(input_shape=IMG_SHAPE,\n",
        "                                               include_top=False,\n",
        "                                               weights='imagenet')\n",
        "\n",
        "#### Step 2: Freezing the base\n",
        "\n",
        "# It is important to freeze the convolutional base before you compile and train the model.\n",
        "# Freezing prevents the weights in a given layer from being updated during training\n",
        "# VGG16 has many layers, so setting the entire model's trainable flag to False will freeze all of them.\n",
        "\n",
        "base_model.trainable = False\n",
        "\n",
        "# Let's take a look at the base model architecture\n",
        "base_model.summary()\n",
        "\n",
        "#### Step 3: Adding the head\n",
        "\n",
        "# inputs\n",
        "inputs = tf.keras.Input(shape=(480, 480, 3))\n",
        "\n",
        "# base with pretrained model\n",
        "x = base_model(inputs, training=False)\n",
        "\n",
        "# head layers\n",
        "x = tf.keras.layers.GlobalAveragePooling2D()(x)\n",
        "x = tf.keras.layers.Dropout(0.2)(x)\n",
        "outputs = tf.keras.layers.Dense(2)(x)\n",
        "\n",
        "# model\n",
        "model = tf.keras.Model(inputs, outputs)\n",
        "\n",
        "# Let's take a look at the final model architecture\n",
        "model.summary()"
      ],
      "metadata": {
        "colab": {
          "base_uri": "https://localhost:8080/"
        },
        "id": "eXfF8aY2cV1j",
        "outputId": "a7d6c9f6-2db1-4e3c-c87b-7a696a738c27"
      },
      "execution_count": null,
      "outputs": [
        {
          "output_type": "stream",
          "name": "stdout",
          "text": [
            "Downloading data from https://storage.googleapis.com/tensorflow/keras-applications/vgg16/vgg16_weights_tf_dim_ordering_tf_kernels_notop.h5\n",
            "58889256/58889256 [==============================] - 2s 0us/step\n",
            "Model: \"vgg16\"\n",
            "_________________________________________________________________\n",
            " Layer (type)                Output Shape              Param #   \n",
            "=================================================================\n",
            " input_1 (InputLayer)        [(None, 480, 480, 3)]     0         \n",
            "                                                                 \n",
            " block1_conv1 (Conv2D)       (None, 480, 480, 64)      1792      \n",
            "                                                                 \n",
            " block1_conv2 (Conv2D)       (None, 480, 480, 64)      36928     \n",
            "                                                                 \n",
            " block1_pool (MaxPooling2D)  (None, 240, 240, 64)      0         \n",
            "                                                                 \n",
            " block2_conv1 (Conv2D)       (None, 240, 240, 128)     73856     \n",
            "                                                                 \n",
            " block2_conv2 (Conv2D)       (None, 240, 240, 128)     147584    \n",
            "                                                                 \n",
            " block2_pool (MaxPooling2D)  (None, 120, 120, 128)     0         \n",
            "                                                                 \n",
            " block3_conv1 (Conv2D)       (None, 120, 120, 256)     295168    \n",
            "                                                                 \n",
            " block3_conv2 (Conv2D)       (None, 120, 120, 256)     590080    \n",
            "                                                                 \n",
            " block3_conv3 (Conv2D)       (None, 120, 120, 256)     590080    \n",
            "                                                                 \n",
            " block3_pool (MaxPooling2D)  (None, 60, 60, 256)       0         \n",
            "                                                                 \n",
            " block4_conv1 (Conv2D)       (None, 60, 60, 512)       1180160   \n",
            "                                                                 \n",
            " block4_conv2 (Conv2D)       (None, 60, 60, 512)       2359808   \n",
            "                                                                 \n",
            " block4_conv3 (Conv2D)       (None, 60, 60, 512)       2359808   \n",
            "                                                                 \n",
            " block4_pool (MaxPooling2D)  (None, 30, 30, 512)       0         \n",
            "                                                                 \n",
            " block5_conv1 (Conv2D)       (None, 30, 30, 512)       2359808   \n",
            "                                                                 \n",
            " block5_conv2 (Conv2D)       (None, 30, 30, 512)       2359808   \n",
            "                                                                 \n",
            " block5_conv3 (Conv2D)       (None, 30, 30, 512)       2359808   \n",
            "                                                                 \n",
            " block5_pool (MaxPooling2D)  (None, 15, 15, 512)       0         \n",
            "                                                                 \n",
            "=================================================================\n",
            "Total params: 14,714,688\n",
            "Trainable params: 0\n",
            "Non-trainable params: 14,714,688\n",
            "_________________________________________________________________\n",
            "Model: \"model\"\n",
            "_________________________________________________________________\n",
            " Layer (type)                Output Shape              Param #   \n",
            "=================================================================\n",
            " input_2 (InputLayer)        [(None, 480, 480, 3)]     0         \n",
            "                                                                 \n",
            " vgg16 (Functional)          (None, 15, 15, 512)       14714688  \n",
            "                                                                 \n",
            " global_average_pooling2d (G  (None, 512)              0         \n",
            " lobalAveragePooling2D)                                          \n",
            "                                                                 \n",
            " dropout (Dropout)           (None, 512)               0         \n",
            "                                                                 \n",
            " dense (Dense)               (None, 2)                 1026      \n",
            "                                                                 \n",
            "=================================================================\n",
            "Total params: 14,715,714\n",
            "Trainable params: 1,026\n",
            "Non-trainable params: 14,714,688\n",
            "_________________________________________________________________\n"
          ]
        }
      ]
    },
    {
      "cell_type": "code",
      "source": [
        "BACKBONE = 'vgg16'\n",
        "input_shape = (H, W, 3)\n",
        "n_classes = 4\n",
        "activation = 'softmax'\n",
        "\n",
        "# using segmentation_models to create U-net with vgg16 as a backbone\n",
        "# and pretrained imagenet weights\n",
        "\n",
        "# segmentation_model basically will create a mirror image of our backbone as expansion path and add to the contraction path\n",
        "model = smp.Unet(backbone_name = BACKBONE,\n",
        "                input_shape = input_shape,\n",
        "                classes = n_classes,\n",
        "                activation = activation,\n",
        "                encoder_weights = 'imagenet')\n",
        "model.summary()"
      ],
      "metadata": {
        "id": "ucGF4szymhMs"
      },
      "execution_count": null,
      "outputs": []
    },
    {
      "cell_type": "markdown",
      "source": [
        "# 1. Load and normalize CIFAR10"
      ],
      "metadata": {
        "id": "Q9eXtGN_9c8N"
      }
    },
    {
      "cell_type": "code",
      "source": [
        "# Download training data from open datasets.\n",
        "training_data = datasets.FashionMNIST(\n",
        "    root=\"data\",\n",
        "    train=True,\n",
        "    download=True,\n",
        "    transform=ToTensor(),\n",
        ")\n",
        "\n",
        "# Download test data from open datasets.\n",
        "test_data = datasets.FashionMNIST(\n",
        "    root=\"data\",\n",
        "    train=False,\n",
        "    download=True,\n",
        "    transform=ToTensor(),\n",
        ")"
      ],
      "metadata": {
        "id": "NIum_fwlyYac"
      },
      "execution_count": null,
      "outputs": []
    },
    {
      "cell_type": "markdown",
      "source": [
        "The output of torchvision datasets are PILImage images of range [0, 1].\n",
        "\n",
        "**We transform them to Tensors of normalized range [-1, 1].**\n",
        "\n",
        "*) PIL - Python Image Librabry"
      ],
      "metadata": {
        "id": "MgIORQlB9LFr"
      }
    },
    {
      "cell_type": "code",
      "source": [
        "transform = transforms.Compose([\n",
        "    transforms.ToTensor(),\n",
        "    transforms.Normalize(0.5,0.5) #torchvision.transforms.Normalize(mean, std, inplace=False) ; mean=0,5 and std=0,5 result in pixel value range 0-1 (0,5 +/-0,5)\n",
        "    ])\n",
        "\n",
        "batch_size = 2 # number of images taken at one run\n",
        "\n",
        "trainset = torchvision.datasets.CIFAR10(root='./data',\n",
        "                                        train=True,\n",
        "                                        download=True,\n",
        "                                        transform=transform)\n",
        "trainloader = torch.utils.data.DataLoader(trainset,\n",
        "                                          batch_size=batch_size,\n",
        "                                          shuffle=True,\n",
        "                                          num_workers=5)\n",
        "\n",
        "testset = torchvision.datasets.CIFAR10(root='./data',\n",
        "                                       train=False,\n",
        "                                       download=True,\n",
        "                                       transform=transform)\n",
        "testloader = torch.utils.data.DataLoader(testset,\n",
        "                                         batch_size=batch_size,\n",
        "                                         shuffle=False,\n",
        "                                         num_workers=5)\n",
        "\n",
        "classes = ('plane', 'car', 'bird', 'cat',\n",
        "           'deer', 'dog', 'frog', 'horse', 'ship', 'truck')"
      ],
      "metadata": {
        "colab": {
          "base_uri": "https://localhost:8080/"
        },
        "id": "MWMtxEvY9LlS",
        "outputId": "dc4e2422-e6f4-41e0-f8fd-6c8753488aeb"
      },
      "execution_count": null,
      "outputs": [
        {
          "output_type": "stream",
          "name": "stdout",
          "text": [
            "Files already downloaded and verified\n",
            "Files already downloaded and verified\n"
          ]
        }
      ]
    },
    {
      "cell_type": "code",
      "source": [
        "# functions to show an image\n",
        "def imshow(img):\n",
        "    img = img / 2 + 0.5     # unnormalize\n",
        "    npimg = img.numpy()\n",
        "    plt.imshow(np.transpose(npimg, (1, 2, 0)))\n",
        "    plt.show()\n",
        "\n",
        "\n",
        "# get some random training images\n",
        "dataiter = iter(trainloader)\n",
        "images, labels = next(dataiter)\n",
        "\n",
        "# show images\n",
        "imshow(torchvision.utils.make_grid(images))\n",
        "# print labels\n",
        "print(' '.join(f'{classes[labels[j]]:5s}' for j in range(batch_size)))"
      ],
      "metadata": {
        "colab": {
          "base_uri": "https://localhost:8080/",
          "height": 239
        },
        "id": "NrxwuOJZ9Pls",
        "outputId": "0362dbc1-b884-46f2-b08f-549b8497ef5f"
      },
      "execution_count": null,
      "outputs": [
        {
          "output_type": "display_data",
          "data": {
            "text/plain": [
              "<Figure size 432x288 with 1 Axes>"
            ],
            "image/png": "[encoded data removed]"
          },
          "metadata": {
            "needs_background": "light"
          }
        },
        {
          "output_type": "stream",
          "name": "stdout",
          "text": [
            "dog   ship \n"
          ]
        }
      ]
    },
    {
      "cell_type": "markdown",
      "source": [
        "# 2. Define a Convolutional Neural Network"
      ],
      "metadata": {
        "id": "tv_cfygV9VKQ"
      }
    },
    {
      "cell_type": "markdown",
      "source": [
        "Example of NN structure\n",
        "\n",
        "![pytorch_mnist.png](data:image/png;base64,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)"
      ],
      "metadata": {
        "id": "ywGscZdrDKQP"
      }
    },
    {
      "cell_type": "code",
      "source": [
        "class Net(nn.Module):\n",
        "    def __init__(self):\n",
        "        super().__init__()\n",
        "        # 3 input image channel (RGB) size (32x32), 6 output channels, 5x5 square convolution kernel\n",
        "        self.conv1 = nn.Conv2d(3, 6, 5) # Conv2d(in_channels= 3 (here RGB), out_channels=6, kernel_size=5, ...)\n",
        "        self.pool = nn.MaxPool2d(2, 2) # MaxPool2d(kernel_size, stride=None, padding=0, dilation=1, return_indices=False, ceil_mode=False)\n",
        "        self.conv2 = nn.Conv2d(6, 16, 5)\n",
        "        self.fc1 = nn.Linear(16 * 5 * 5, 120) # Linear(in_features, out_features, bias=True, device=None, dtype=None)\n",
        "        self.fc2 = nn.Linear(120, 84)\n",
        "        self.fc3 = nn.Linear(84, 10)\n",
        "\n",
        "    def forward(self, x):\n",
        "        x = self.pool(F.relu(self.conv1(x)))\n",
        "        x = self.pool(F.relu(self.conv2(x)))\n",
        "        x = torch.flatten(x, 1) # flatten all dimensions except batch\n",
        "        x = F.relu(self.fc1(x))\n",
        "        x = F.relu(self.fc2(x))\n",
        "        x = self.fc3(x)\n",
        "        return x\n",
        "\n",
        "\n",
        "net = Net()"
      ],
      "metadata": {
        "id": "HfQrKgr-9VjW"
      },
      "execution_count": null,
      "outputs": []
    },
    {
      "cell_type": "markdown",
      "source": [
        "# 3. Define a Loss function and optimizer\n"
      ],
      "metadata": {
        "id": "fWyTnhxO92TJ"
      }
    },
    {
      "cell_type": "code",
      "source": [
        "import torch.optim as optim\n",
        "\n",
        "criterion = nn.CrossEntropyLoss()\n",
        "optimizer = optim.SGD(net.parameters(), lr=0.001, momentum=0.9)"
      ],
      "metadata": {
        "id": "34ahpWw092r-"
      },
      "execution_count": null,
      "outputs": []
    },
    {
      "cell_type": "markdown",
      "source": [
        "# 4. Train the network"
      ],
      "metadata": {
        "id": "hyN5u5OC95s5"
      }
    },
    {
      "cell_type": "code",
      "source": [
        "epochs=2\n",
        "\n",
        "for epoch in tqdm(range(int(epochs)),desc='Training Epochs'): # loop over the dataset multiple times\n",
        "# for epoch in range(int(epochs)): # loop over the dataset multiple times\n",
        "    running_loss = 0.0\n",
        "    # for i, data in tqdm(enumerate(trainloader, 0),total=i, desc='Training Epochs'):\n",
        "    for i, data in enumerate(trainloader, 0):\n",
        "        # get the inputs; data is a list of [inputs, labels]\n",
        "        inputs, labels = data\n",
        "\n",
        "        # zero the parameter gradients\n",
        "        optimizer.zero_grad()\n",
        "\n",
        "        # forward + backward + optimize\n",
        "        outputs = net(inputs)\n",
        "        loss = criterion(outputs, labels)\n",
        "        loss.backward()\n",
        "        optimizer.step()\n",
        "\n",
        "        # print statistics\n",
        "        running_loss += loss.item()\n",
        "        if i % 2000 == 1999:    # print every 2000 mini-batches\n",
        "            print(f'[{epoch + 1}, {i + 1:5d}] loss: {running_loss / 2000:.3f}')\n",
        "            running_loss = 0.0\n",
        "\n",
        "print('\\nFinished Training')"
      ],
      "metadata": {
        "colab": {
          "base_uri": "https://localhost:8080/",
          "height": 1000
        },
        "id": "LBmD1iH998kw",
        "outputId": "f137b0eb-d414-4742-d311-dac3ee52c6fe"
      },
      "execution_count": null,
      "outputs": [
        {
          "output_type": "stream",
          "name": "stderr",
          "text": [
            "\rTraining Epochs:   0%|          | 0/2 [00:00<?, ?it/s]Exception ignored in: <function _MultiProcessingDataLoaderIter.__del__ at 0x7f45e6a9eca0>Exception ignored in: Exception ignored in: Exception ignored in: \n",
            "<function _MultiProcessingDataLoaderIter.__del__ at 0x7f45e6a9eca0><function _MultiProcessingDataLoaderIter.__del__ at 0x7f45e6a9eca0>Traceback (most recent call last):\n",
            "<function _MultiProcessingDataLoaderIter.__del__ at 0x7f45e6a9eca0>\n",
            "\n",
            "  File \"/usr/local/lib/python3.9/dist-packages/torch/utils/data/dataloader.py\", line 1466, in __del__\n",
            "Traceback (most recent call last):\n",
            "Traceback (most recent call last):\n",
            "      File \"/usr/local/lib/python3.9/dist-packages/torch/utils/data/dataloader.py\", line 1466, in __del__\n",
            "\n",
            "  File \"/usr/local/lib/python3.9/dist-packages/torch/utils/data/dataloader.py\", line 1466, in __del__\n",
            "    Traceback (most recent call last):\n",
            "self._shutdown_workers()    Exception ignored in: self._shutdown_workers()  File \"/usr/local/lib/python3.9/dist-packages/torch/utils/data/dataloader.py\", line 1466, in __del__\n",
            "self._shutdown_workers()<function _MultiProcessingDataLoaderIter.__del__ at 0x7f45e6a9eca0>\n",
            "\n",
            "    \n",
            "  File \"/usr/local/lib/python3.9/dist-packages/torch/utils/data/dataloader.py\", line 1449, in _shutdown_workers\n",
            "  File \"/usr/local/lib/python3.9/dist-packages/torch/utils/data/dataloader.py\", line 1449, in _shutdown_workers\n",
            "self._shutdown_workers()\n",
            "  File \"/usr/local/lib/python3.9/dist-packages/torch/utils/data/dataloader.py\", line 1449, in _shutdown_workers\n",
            "    \n",
            "    if w.is_alive():    Traceback (most recent call last):\n",
            "\n",
            "  File \"/usr/lib/python3.9/multiprocessing/process.py\", line 160, in is_alive\n",
            "    assert self._parent_pid == os.getpid(), 'can only test a child process'if w.is_alive():  File \"/usr/local/lib/python3.9/dist-packages/torch/utils/data/dataloader.py\", line 1449, in _shutdown_workers\n",
            "\n",
            "if w.is_alive():\n",
            "  File \"/usr/local/lib/python3.9/dist-packages/torch/utils/data/dataloader.py\", line 1466, in __del__\n",
            "AssertionError  File \"/usr/lib/python3.9/multiprocessing/process.py\", line 160, in is_alive\n",
            "    :         \n",
            "  File \"/usr/lib/python3.9/multiprocessing/process.py\", line 160, in is_alive\n",
            "assert self._parent_pid == os.getpid(), 'can only test a child process'    self._shutdown_workers()if w.is_alive():can only test a child processassert self._parent_pid == os.getpid(), 'can only test a child process'\n",
            "\n",
            "\n",
            "\n",
            "  File \"/usr/local/lib/python3.9/dist-packages/torch/utils/data/dataloader.py\", line 1449, in _shutdown_workers\n",
            "AssertionError\n",
            "  File \"/usr/lib/python3.9/multiprocessing/process.py\", line 160, in is_alive\n",
            ":         AssertionErrorcan only test a child processif w.is_alive():: assert self._parent_pid == os.getpid(), 'can only test a child process'\n",
            "can only test a child process\n",
            "\n",
            "  File \"/usr/lib/python3.9/multiprocessing/process.py\", line 160, in is_alive\n",
            "AssertionError\n",
            "    : can only test a child processassert self._parent_pid == os.getpid(), 'can only test a child process'\n",
            "\n",
            "AssertionError: can only test a child process\n"
          ]
        },
        {
          "output_type": "stream",
          "name": "stdout",
          "text": [
            "[1,  2000] loss: 1.304\n"
          ]
        },
        {
          "output_type": "stream",
          "name": "stderr",
          "text": [
            "\rTraining Epochs:   0%|          | 0/2 [00:16<?, ?it/s]\n"
          ]
        },
        {
          "output_type": "error",
          "ename": "KeyboardInterrupt",
          "evalue": "ignored",
          "traceback": [
            "\u001b[0;31m---------------------------------------------------------------------------\u001b[0m",
            "\u001b[0;31mKeyboardInterrupt\u001b[0m                         Traceback (most recent call last)",
            "\u001b[0;32m<ipython-input-17-33e48d626277>\u001b[0m in \u001b[0;36m<module>\u001b[0;34m\u001b[0m\n\u001b[1;32m      5\u001b[0m     \u001b[0mrunning_loss\u001b[0m \u001b[0;34m=\u001b[0m \u001b[0;36m0.0\u001b[0m\u001b[0;34m\u001b[0m\u001b[0;34m\u001b[0m\u001b[0m\n\u001b[1;32m      6\u001b[0m     \u001b[0;31m# for i, data in tqdm(enumerate(trainloader, 0),total=i, desc='Training Epochs'):\u001b[0m\u001b[0;34m\u001b[0m\u001b[0;34m\u001b[0m\u001b[0m\n\u001b[0;32m----> 7\u001b[0;31m     \u001b[0;32mfor\u001b[0m \u001b[0mi\u001b[0m\u001b[0;34m,\u001b[0m \u001b[0mdata\u001b[0m \u001b[0;32min\u001b[0m \u001b[0menumerate\u001b[0m\u001b[0;34m(\u001b[0m\u001b[0mtrainloader\u001b[0m\u001b[0;34m,\u001b[0m \u001b[0;36m0\u001b[0m\u001b[0;34m)\u001b[0m\u001b[0;34m:\u001b[0m\u001b[0;34m\u001b[0m\u001b[0;34m\u001b[0m\u001b[0m\n\u001b[0m\u001b[1;32m      8\u001b[0m         \u001b[0;31m# get the inputs; data is a list of [inputs, labels]\u001b[0m\u001b[0;34m\u001b[0m\u001b[0;34m\u001b[0m\u001b[0m\n\u001b[1;32m      9\u001b[0m         \u001b[0minputs\u001b[0m\u001b[0;34m,\u001b[0m \u001b[0mlabels\u001b[0m \u001b[0;34m=\u001b[0m \u001b[0mdata\u001b[0m\u001b[0;34m\u001b[0m\u001b[0;34m\u001b[0m\u001b[0m\n",
            "\u001b[0;32m/usr/local/lib/python3.9/dist-packages/torch/utils/data/dataloader.py\u001b[0m in \u001b[0;36m__next__\u001b[0;34m(self)\u001b[0m\n\u001b[1;32m    626\u001b[0m                 \u001b[0;31m# TODO(https://github.com/pytorch/pytorch/issues/76750)\u001b[0m\u001b[0;34m\u001b[0m\u001b[0;34m\u001b[0m\u001b[0m\n\u001b[1;32m    627\u001b[0m                 \u001b[0mself\u001b[0m\u001b[0;34m.\u001b[0m\u001b[0m_reset\u001b[0m\u001b[0;34m(\u001b[0m\u001b[0;34m)\u001b[0m  \u001b[0;31m# type: ignore[call-arg]\u001b[0m\u001b[0;34m\u001b[0m\u001b[0;34m\u001b[0m\u001b[0m\n\u001b[0;32m--> 628\u001b[0;31m             \u001b[0mdata\u001b[0m \u001b[0;34m=\u001b[0m \u001b[0mself\u001b[0m\u001b[0;34m.\u001b[0m\u001b[0m_next_data\u001b[0m\u001b[0;34m(\u001b[0m\u001b[0;34m)\u001b[0m\u001b[0;34m\u001b[0m\u001b[0;34m\u001b[0m\u001b[0m\n\u001b[0m\u001b[1;32m    629\u001b[0m             \u001b[0mself\u001b[0m\u001b[0;34m.\u001b[0m\u001b[0m_num_yielded\u001b[0m \u001b[0;34m+=\u001b[0m \u001b[0;36m1\u001b[0m\u001b[0;34m\u001b[0m\u001b[0;34m\u001b[0m\u001b[0m\n\u001b[1;32m    630\u001b[0m             \u001b[0;32mif\u001b[0m \u001b[0mself\u001b[0m\u001b[0;34m.\u001b[0m\u001b[0m_dataset_kind\u001b[0m \u001b[0;34m==\u001b[0m \u001b[0m_DatasetKind\u001b[0m\u001b[0;34m.\u001b[0m\u001b[0mIterable\u001b[0m \u001b[0;32mand\u001b[0m\u001b[0;31m \u001b[0m\u001b[0;31m\\\u001b[0m\u001b[0;34m\u001b[0m\u001b[0;34m\u001b[0m\u001b[0m\n",
            "\u001b[0;32m/usr/local/lib/python3.9/dist-packages/torch/utils/data/dataloader.py\u001b[0m in \u001b[0;36m_next_data\u001b[0;34m(self)\u001b[0m\n\u001b[1;32m   1314\u001b[0m \u001b[0;34m\u001b[0m\u001b[0m\n\u001b[1;32m   1315\u001b[0m             \u001b[0;32massert\u001b[0m \u001b[0;32mnot\u001b[0m \u001b[0mself\u001b[0m\u001b[0;34m.\u001b[0m\u001b[0m_shutdown\u001b[0m \u001b[0;32mand\u001b[0m \u001b[0mself\u001b[0m\u001b[0;34m.\u001b[0m\u001b[0m_tasks_outstanding\u001b[0m \u001b[0;34m>\u001b[0m \u001b[0;36m0\u001b[0m\u001b[0;34m\u001b[0m\u001b[0;34m\u001b[0m\u001b[0m\n\u001b[0;32m-> 1316\u001b[0;31m             \u001b[0midx\u001b[0m\u001b[0;34m,\u001b[0m \u001b[0mdata\u001b[0m \u001b[0;34m=\u001b[0m \u001b[0mself\u001b[0m\u001b[0;34m.\u001b[0m\u001b[0m_get_data\u001b[0m\u001b[0;34m(\u001b[0m\u001b[0;34m)\u001b[0m\u001b[0;34m\u001b[0m\u001b[0;34m\u001b[0m\u001b[0m\n\u001b[0m\u001b[1;32m   1317\u001b[0m             \u001b[0mself\u001b[0m\u001b[0;34m.\u001b[0m\u001b[0m_tasks_outstanding\u001b[0m \u001b[0;34m-=\u001b[0m \u001b[0;36m1\u001b[0m\u001b[0;34m\u001b[0m\u001b[0;34m\u001b[0m\u001b[0m\n\u001b[1;32m   1318\u001b[0m             \u001b[0;32mif\u001b[0m \u001b[0mself\u001b[0m\u001b[0;34m.\u001b[0m\u001b[0m_dataset_kind\u001b[0m \u001b[0;34m==\u001b[0m \u001b[0m_DatasetKind\u001b[0m\u001b[0;34m.\u001b[0m\u001b[0mIterable\u001b[0m\u001b[0;34m:\u001b[0m\u001b[0;34m\u001b[0m\u001b[0;34m\u001b[0m\u001b[0m\n",
            "\u001b[0;32m/usr/local/lib/python3.9/dist-packages/torch/utils/data/dataloader.py\u001b[0m in \u001b[0;36m_get_data\u001b[0;34m(self)\u001b[0m\n\u001b[1;32m   1280\u001b[0m         \u001b[0;32melse\u001b[0m\u001b[0;34m:\u001b[0m\u001b[0;34m\u001b[0m\u001b[0;34m\u001b[0m\u001b[0m\n\u001b[1;32m   1281\u001b[0m             \u001b[0;32mwhile\u001b[0m \u001b[0;32mTrue\u001b[0m\u001b[0;34m:\u001b[0m\u001b[0;34m\u001b[0m\u001b[0;34m\u001b[0m\u001b[0m\n\u001b[0;32m-> 1282\u001b[0;31m                 \u001b[0msuccess\u001b[0m\u001b[0;34m,\u001b[0m \u001b[0mdata\u001b[0m \u001b[0;34m=\u001b[0m \u001b[0mself\u001b[0m\u001b[0;34m.\u001b[0m\u001b[0m_try_get_data\u001b[0m\u001b[0;34m(\u001b[0m\u001b[0;34m)\u001b[0m\u001b[0;34m\u001b[0m\u001b[0;34m\u001b[0m\u001b[0m\n\u001b[0m\u001b[1;32m   1283\u001b[0m                 \u001b[0;32mif\u001b[0m \u001b[0msuccess\u001b[0m\u001b[0;34m:\u001b[0m\u001b[0;34m\u001b[0m\u001b[0;34m\u001b[0m\u001b[0m\n\u001b[1;32m   1284\u001b[0m                     \u001b[0;32mreturn\u001b[0m \u001b[0mdata\u001b[0m\u001b[0;34m\u001b[0m\u001b[0;34m\u001b[0m\u001b[0m\n",
            "\u001b[0;32m/usr/local/lib/python3.9/dist-packages/torch/utils/data/dataloader.py\u001b[0m in \u001b[0;36m_try_get_data\u001b[0;34m(self, timeout)\u001b[0m\n\u001b[1;32m   1118\u001b[0m         \u001b[0;31m#   (bool: whether successfully get data, any: data if successful else None)\u001b[0m\u001b[0;34m\u001b[0m\u001b[0;34m\u001b[0m\u001b[0m\n\u001b[1;32m   1119\u001b[0m         \u001b[0;32mtry\u001b[0m\u001b[0;34m:\u001b[0m\u001b[0;34m\u001b[0m\u001b[0;34m\u001b[0m\u001b[0m\n\u001b[0;32m-> 1120\u001b[0;31m             \u001b[0mdata\u001b[0m \u001b[0;34m=\u001b[0m \u001b[0mself\u001b[0m\u001b[0;34m.\u001b[0m\u001b[0m_data_queue\u001b[0m\u001b[0;34m.\u001b[0m\u001b[0mget\u001b[0m\u001b[0;34m(\u001b[0m\u001b[0mtimeout\u001b[0m\u001b[0;34m=\u001b[0m\u001b[0mtimeout\u001b[0m\u001b[0;34m)\u001b[0m\u001b[0;34m\u001b[0m\u001b[0;34m\u001b[0m\u001b[0m\n\u001b[0m\u001b[1;32m   1121\u001b[0m             \u001b[0;32mreturn\u001b[0m \u001b[0;34m(\u001b[0m\u001b[0;32mTrue\u001b[0m\u001b[0;34m,\u001b[0m \u001b[0mdata\u001b[0m\u001b[0;34m)\u001b[0m\u001b[0;34m\u001b[0m\u001b[0;34m\u001b[0m\u001b[0m\n\u001b[1;32m   1122\u001b[0m         \u001b[0;32mexcept\u001b[0m \u001b[0mException\u001b[0m \u001b[0;32mas\u001b[0m \u001b[0me\u001b[0m\u001b[0;34m:\u001b[0m\u001b[0;34m\u001b[0m\u001b[0;34m\u001b[0m\u001b[0m\n",
            "\u001b[0;32m/usr/lib/python3.9/multiprocessing/queues.py\u001b[0m in \u001b[0;36mget\u001b[0;34m(self, block, timeout)\u001b[0m\n\u001b[1;32m    120\u001b[0m                 \u001b[0mself\u001b[0m\u001b[0;34m.\u001b[0m\u001b[0m_rlock\u001b[0m\u001b[0;34m.\u001b[0m\u001b[0mrelease\u001b[0m\u001b[0;34m(\u001b[0m\u001b[0;34m)\u001b[0m\u001b[0;34m\u001b[0m\u001b[0;34m\u001b[0m\u001b[0m\n\u001b[1;32m    121\u001b[0m         \u001b[0;31m# unserialize the data after having released the lock\u001b[0m\u001b[0;34m\u001b[0m\u001b[0;34m\u001b[0m\u001b[0m\n\u001b[0;32m--> 122\u001b[0;31m         \u001b[0;32mreturn\u001b[0m \u001b[0m_ForkingPickler\u001b[0m\u001b[0;34m.\u001b[0m\u001b[0mloads\u001b[0m\u001b[0;34m(\u001b[0m\u001b[0mres\u001b[0m\u001b[0;34m)\u001b[0m\u001b[0;34m\u001b[0m\u001b[0;34m\u001b[0m\u001b[0m\n\u001b[0m\u001b[1;32m    123\u001b[0m \u001b[0;34m\u001b[0m\u001b[0m\n\u001b[1;32m    124\u001b[0m     \u001b[0;32mdef\u001b[0m \u001b[0mqsize\u001b[0m\u001b[0;34m(\u001b[0m\u001b[0mself\u001b[0m\u001b[0;34m)\u001b[0m\u001b[0;34m:\u001b[0m\u001b[0;34m\u001b[0m\u001b[0;34m\u001b[0m\u001b[0m\n",
            "\u001b[0;32m/usr/local/lib/python3.9/dist-packages/torch/multiprocessing/reductions.py\u001b[0m in \u001b[0;36mrebuild_storage_fd\u001b[0;34m(cls, df, size)\u001b[0m\n\u001b[1;32m    303\u001b[0m \u001b[0;34m\u001b[0m\u001b[0m\n\u001b[1;32m    304\u001b[0m \u001b[0;32mdef\u001b[0m \u001b[0mrebuild_storage_fd\u001b[0m\u001b[0;34m(\u001b[0m\u001b[0mcls\u001b[0m\u001b[0;34m,\u001b[0m \u001b[0mdf\u001b[0m\u001b[0;34m,\u001b[0m \u001b[0msize\u001b[0m\u001b[0;34m)\u001b[0m\u001b[0;34m:\u001b[0m\u001b[0;34m\u001b[0m\u001b[0;34m\u001b[0m\u001b[0m\n\u001b[0;32m--> 305\u001b[0;31m     \u001b[0mfd\u001b[0m \u001b[0;34m=\u001b[0m \u001b[0mdf\u001b[0m\u001b[0;34m.\u001b[0m\u001b[0mdetach\u001b[0m\u001b[0;34m(\u001b[0m\u001b[0;34m)\u001b[0m\u001b[0;34m\u001b[0m\u001b[0;34m\u001b[0m\u001b[0m\n\u001b[0m\u001b[1;32m    306\u001b[0m     \u001b[0;32mtry\u001b[0m\u001b[0;34m:\u001b[0m\u001b[0;34m\u001b[0m\u001b[0;34m\u001b[0m\u001b[0m\n\u001b[1;32m    307\u001b[0m         \u001b[0mstorage\u001b[0m \u001b[0;34m=\u001b[0m \u001b[0mstorage_from_cache\u001b[0m\u001b[0;34m(\u001b[0m\u001b[0mcls\u001b[0m\u001b[0;34m,\u001b[0m \u001b[0mfd_id\u001b[0m\u001b[0;34m(\u001b[0m\u001b[0mfd\u001b[0m\u001b[0;34m)\u001b[0m\u001b[0;34m)\u001b[0m\u001b[0;34m\u001b[0m\u001b[0;34m\u001b[0m\u001b[0m\n",
            "\u001b[0;32m/usr/lib/python3.9/multiprocessing/resource_sharer.py\u001b[0m in \u001b[0;36mdetach\u001b[0;34m(self)\u001b[0m\n\u001b[1;32m     55\u001b[0m         \u001b[0;32mdef\u001b[0m \u001b[0mdetach\u001b[0m\u001b[0;34m(\u001b[0m\u001b[0mself\u001b[0m\u001b[0;34m)\u001b[0m\u001b[0;34m:\u001b[0m\u001b[0;34m\u001b[0m\u001b[0;34m\u001b[0m\u001b[0m\n\u001b[1;32m     56\u001b[0m             \u001b[0;34m'''Get the fd.  This should only be called once.'''\u001b[0m\u001b[0;34m\u001b[0m\u001b[0;34m\u001b[0m\u001b[0m\n\u001b[0;32m---> 57\u001b[0;31m             \u001b[0;32mwith\u001b[0m \u001b[0m_resource_sharer\u001b[0m\u001b[0;34m.\u001b[0m\u001b[0mget_connection\u001b[0m\u001b[0;34m(\u001b[0m\u001b[0mself\u001b[0m\u001b[0;34m.\u001b[0m\u001b[0m_id\u001b[0m\u001b[0;34m)\u001b[0m \u001b[0;32mas\u001b[0m \u001b[0mconn\u001b[0m\u001b[0;34m:\u001b[0m\u001b[0;34m\u001b[0m\u001b[0;34m\u001b[0m\u001b[0m\n\u001b[0m\u001b[1;32m     58\u001b[0m                 \u001b[0;32mreturn\u001b[0m \u001b[0mreduction\u001b[0m\u001b[0;34m.\u001b[0m\u001b[0mrecv_handle\u001b[0m\u001b[0;34m(\u001b[0m\u001b[0mconn\u001b[0m\u001b[0;34m)\u001b[0m\u001b[0;34m\u001b[0m\u001b[0;34m\u001b[0m\u001b[0m\n\u001b[1;32m     59\u001b[0m \u001b[0;34m\u001b[0m\u001b[0m\n",
            "\u001b[0;32m/usr/lib/python3.9/multiprocessing/resource_sharer.py\u001b[0m in \u001b[0;36mget_connection\u001b[0;34m(ident)\u001b[0m\n\u001b[1;32m     84\u001b[0m         \u001b[0;32mfrom\u001b[0m \u001b[0;34m.\u001b[0m\u001b[0mconnection\u001b[0m \u001b[0;32mimport\u001b[0m \u001b[0mClient\u001b[0m\u001b[0;34m\u001b[0m\u001b[0;34m\u001b[0m\u001b[0m\n\u001b[1;32m     85\u001b[0m         \u001b[0maddress\u001b[0m\u001b[0;34m,\u001b[0m \u001b[0mkey\u001b[0m \u001b[0;34m=\u001b[0m \u001b[0mident\u001b[0m\u001b[0;34m\u001b[0m\u001b[0;34m\u001b[0m\u001b[0m\n\u001b[0;32m---> 86\u001b[0;31m         \u001b[0mc\u001b[0m \u001b[0;34m=\u001b[0m \u001b[0mClient\u001b[0m\u001b[0;34m(\u001b[0m\u001b[0maddress\u001b[0m\u001b[0;34m,\u001b[0m \u001b[0mauthkey\u001b[0m\u001b[0;34m=\u001b[0m\u001b[0mprocess\u001b[0m\u001b[0;34m.\u001b[0m\u001b[0mcurrent_process\u001b[0m\u001b[0;34m(\u001b[0m\u001b[0;34m)\u001b[0m\u001b[0;34m.\u001b[0m\u001b[0mauthkey\u001b[0m\u001b[0;34m)\u001b[0m\u001b[0;34m\u001b[0m\u001b[0;34m\u001b[0m\u001b[0m\n\u001b[0m\u001b[1;32m     87\u001b[0m         \u001b[0mc\u001b[0m\u001b[0;34m.\u001b[0m\u001b[0msend\u001b[0m\u001b[0;34m(\u001b[0m\u001b[0;34m(\u001b[0m\u001b[0mkey\u001b[0m\u001b[0;34m,\u001b[0m \u001b[0mos\u001b[0m\u001b[0;34m.\u001b[0m\u001b[0mgetpid\u001b[0m\u001b[0;34m(\u001b[0m\u001b[0;34m)\u001b[0m\u001b[0;34m)\u001b[0m\u001b[0;34m)\u001b[0m\u001b[0;34m\u001b[0m\u001b[0;34m\u001b[0m\u001b[0m\n\u001b[1;32m     88\u001b[0m         \u001b[0;32mreturn\u001b[0m \u001b[0mc\u001b[0m\u001b[0;34m\u001b[0m\u001b[0;34m\u001b[0m\u001b[0m\n",
            "\u001b[0;32m/usr/lib/python3.9/multiprocessing/connection.py\u001b[0m in \u001b[0;36mClient\u001b[0;34m(address, family, authkey)\u001b[0m\n\u001b[1;32m    506\u001b[0m \u001b[0;34m\u001b[0m\u001b[0m\n\u001b[1;32m    507\u001b[0m     \u001b[0;32mif\u001b[0m \u001b[0mauthkey\u001b[0m \u001b[0;32mis\u001b[0m \u001b[0;32mnot\u001b[0m \u001b[0;32mNone\u001b[0m\u001b[0;34m:\u001b[0m\u001b[0;34m\u001b[0m\u001b[0;34m\u001b[0m\u001b[0m\n\u001b[0;32m--> 508\u001b[0;31m         \u001b[0manswer_challenge\u001b[0m\u001b[0;34m(\u001b[0m\u001b[0mc\u001b[0m\u001b[0;34m,\u001b[0m \u001b[0mauthkey\u001b[0m\u001b[0;34m)\u001b[0m\u001b[0;34m\u001b[0m\u001b[0;34m\u001b[0m\u001b[0m\n\u001b[0m\u001b[1;32m    509\u001b[0m         \u001b[0mdeliver_challenge\u001b[0m\u001b[0;34m(\u001b[0m\u001b[0mc\u001b[0m\u001b[0;34m,\u001b[0m \u001b[0mauthkey\u001b[0m\u001b[0;34m)\u001b[0m\u001b[0;34m\u001b[0m\u001b[0;34m\u001b[0m\u001b[0m\n\u001b[1;32m    510\u001b[0m \u001b[0;34m\u001b[0m\u001b[0m\n",
            "\u001b[0;32m/usr/lib/python3.9/multiprocessing/connection.py\u001b[0m in \u001b[0;36manswer_challenge\u001b[0;34m(connection, authkey)\u001b[0m\n\u001b[1;32m    755\u001b[0m     \u001b[0mdigest\u001b[0m \u001b[0;34m=\u001b[0m \u001b[0mhmac\u001b[0m\u001b[0;34m.\u001b[0m\u001b[0mnew\u001b[0m\u001b[0;34m(\u001b[0m\u001b[0mauthkey\u001b[0m\u001b[0;34m,\u001b[0m \u001b[0mmessage\u001b[0m\u001b[0;34m,\u001b[0m \u001b[0;34m'md5'\u001b[0m\u001b[0;34m)\u001b[0m\u001b[0;34m.\u001b[0m\u001b[0mdigest\u001b[0m\u001b[0;34m(\u001b[0m\u001b[0;34m)\u001b[0m\u001b[0;34m\u001b[0m\u001b[0;34m\u001b[0m\u001b[0m\n\u001b[1;32m    756\u001b[0m     \u001b[0mconnection\u001b[0m\u001b[0;34m.\u001b[0m\u001b[0msend_bytes\u001b[0m\u001b[0;34m(\u001b[0m\u001b[0mdigest\u001b[0m\u001b[0;34m)\u001b[0m\u001b[0;34m\u001b[0m\u001b[0;34m\u001b[0m\u001b[0m\n\u001b[0;32m--> 757\u001b[0;31m     \u001b[0mresponse\u001b[0m \u001b[0;34m=\u001b[0m \u001b[0mconnection\u001b[0m\u001b[0;34m.\u001b[0m\u001b[0mrecv_bytes\u001b[0m\u001b[0;34m(\u001b[0m\u001b[0;36m256\u001b[0m\u001b[0;34m)\u001b[0m        \u001b[0;31m# reject large message\u001b[0m\u001b[0;34m\u001b[0m\u001b[0;34m\u001b[0m\u001b[0m\n\u001b[0m\u001b[1;32m    758\u001b[0m     \u001b[0;32mif\u001b[0m \u001b[0mresponse\u001b[0m \u001b[0;34m!=\u001b[0m \u001b[0mWELCOME\u001b[0m\u001b[0;34m:\u001b[0m\u001b[0;34m\u001b[0m\u001b[0;34m\u001b[0m\u001b[0m\n\u001b[1;32m    759\u001b[0m         \u001b[0;32mraise\u001b[0m \u001b[0mAuthenticationError\u001b[0m\u001b[0;34m(\u001b[0m\u001b[0;34m'digest sent was rejected'\u001b[0m\u001b[0;34m)\u001b[0m\u001b[0;34m\u001b[0m\u001b[0;34m\u001b[0m\u001b[0m\n",
            "\u001b[0;32m/usr/lib/python3.9/multiprocessing/connection.py\u001b[0m in \u001b[0;36mrecv_bytes\u001b[0;34m(self, maxlength)\u001b[0m\n\u001b[1;32m    214\u001b[0m         \u001b[0;32mif\u001b[0m \u001b[0mmaxlength\u001b[0m \u001b[0;32mis\u001b[0m \u001b[0;32mnot\u001b[0m \u001b[0;32mNone\u001b[0m \u001b[0;32mand\u001b[0m \u001b[0mmaxlength\u001b[0m \u001b[0;34m<\u001b[0m \u001b[0;36m0\u001b[0m\u001b[0;34m:\u001b[0m\u001b[0;34m\u001b[0m\u001b[0;34m\u001b[0m\u001b[0m\n\u001b[1;32m    215\u001b[0m             \u001b[0;32mraise\u001b[0m \u001b[0mValueError\u001b[0m\u001b[0;34m(\u001b[0m\u001b[0;34m\"negative maxlength\"\u001b[0m\u001b[0;34m)\u001b[0m\u001b[0;34m\u001b[0m\u001b[0;34m\u001b[0m\u001b[0m\n\u001b[0;32m--> 216\u001b[0;31m         \u001b[0mbuf\u001b[0m \u001b[0;34m=\u001b[0m \u001b[0mself\u001b[0m\u001b[0;34m.\u001b[0m\u001b[0m_recv_bytes\u001b[0m\u001b[0;34m(\u001b[0m\u001b[0mmaxlength\u001b[0m\u001b[0;34m)\u001b[0m\u001b[0;34m\u001b[0m\u001b[0;34m\u001b[0m\u001b[0m\n\u001b[0m\u001b[1;32m    217\u001b[0m         \u001b[0;32mif\u001b[0m \u001b[0mbuf\u001b[0m \u001b[0;32mis\u001b[0m \u001b[0;32mNone\u001b[0m\u001b[0;34m:\u001b[0m\u001b[0;34m\u001b[0m\u001b[0;34m\u001b[0m\u001b[0m\n\u001b[1;32m    218\u001b[0m             \u001b[0mself\u001b[0m\u001b[0;34m.\u001b[0m\u001b[0m_bad_message_length\u001b[0m\u001b[0;34m(\u001b[0m\u001b[0;34m)\u001b[0m\u001b[0;34m\u001b[0m\u001b[0;34m\u001b[0m\u001b[0m\n",
            "\u001b[0;32m/usr/lib/python3.9/multiprocessing/connection.py\u001b[0m in \u001b[0;36m_recv_bytes\u001b[0;34m(self, maxsize)\u001b[0m\n\u001b[1;32m    412\u001b[0m \u001b[0;34m\u001b[0m\u001b[0m\n\u001b[1;32m    413\u001b[0m     \u001b[0;32mdef\u001b[0m \u001b[0m_recv_bytes\u001b[0m\u001b[0;34m(\u001b[0m\u001b[0mself\u001b[0m\u001b[0;34m,\u001b[0m \u001b[0mmaxsize\u001b[0m\u001b[0;34m=\u001b[0m\u001b[0;32mNone\u001b[0m\u001b[0;34m)\u001b[0m\u001b[0;34m:\u001b[0m\u001b[0;34m\u001b[0m\u001b[0;34m\u001b[0m\u001b[0m\n\u001b[0;32m--> 414\u001b[0;31m         \u001b[0mbuf\u001b[0m \u001b[0;34m=\u001b[0m \u001b[0mself\u001b[0m\u001b[0;34m.\u001b[0m\u001b[0m_recv\u001b[0m\u001b[0;34m(\u001b[0m\u001b[0;36m4\u001b[0m\u001b[0;34m)\u001b[0m\u001b[0;34m\u001b[0m\u001b[0;34m\u001b[0m\u001b[0m\n\u001b[0m\u001b[1;32m    415\u001b[0m         \u001b[0msize\u001b[0m\u001b[0;34m,\u001b[0m \u001b[0;34m=\u001b[0m \u001b[0mstruct\u001b[0m\u001b[0;34m.\u001b[0m\u001b[0munpack\u001b[0m\u001b[0;34m(\u001b[0m\u001b[0;34m\"!i\"\u001b[0m\u001b[0;34m,\u001b[0m \u001b[0mbuf\u001b[0m\u001b[0;34m.\u001b[0m\u001b[0mgetvalue\u001b[0m\u001b[0;34m(\u001b[0m\u001b[0;34m)\u001b[0m\u001b[0;34m)\u001b[0m\u001b[0;34m\u001b[0m\u001b[0;34m\u001b[0m\u001b[0m\n\u001b[1;32m    416\u001b[0m         \u001b[0;32mif\u001b[0m \u001b[0msize\u001b[0m \u001b[0;34m==\u001b[0m \u001b[0;34m-\u001b[0m\u001b[0;36m1\u001b[0m\u001b[0;34m:\u001b[0m\u001b[0;34m\u001b[0m\u001b[0;34m\u001b[0m\u001b[0m\n",
            "\u001b[0;32m/usr/lib/python3.9/multiprocessing/connection.py\u001b[0m in \u001b[0;36m_recv\u001b[0;34m(self, size, read)\u001b[0m\n\u001b[1;32m    377\u001b[0m         \u001b[0mremaining\u001b[0m \u001b[0;34m=\u001b[0m \u001b[0msize\u001b[0m\u001b[0;34m\u001b[0m\u001b[0;34m\u001b[0m\u001b[0m\n\u001b[1;32m    378\u001b[0m         \u001b[0;32mwhile\u001b[0m \u001b[0mremaining\u001b[0m \u001b[0;34m>\u001b[0m \u001b[0;36m0\u001b[0m\u001b[0;34m:\u001b[0m\u001b[0;34m\u001b[0m\u001b[0;34m\u001b[0m\u001b[0m\n\u001b[0;32m--> 379\u001b[0;31m             \u001b[0mchunk\u001b[0m \u001b[0;34m=\u001b[0m \u001b[0mread\u001b[0m\u001b[0;34m(\u001b[0m\u001b[0mhandle\u001b[0m\u001b[0;34m,\u001b[0m \u001b[0mremaining\u001b[0m\u001b[0;34m)\u001b[0m\u001b[0;34m\u001b[0m\u001b[0;34m\u001b[0m\u001b[0m\n\u001b[0m\u001b[1;32m    380\u001b[0m             \u001b[0mn\u001b[0m \u001b[0;34m=\u001b[0m \u001b[0mlen\u001b[0m\u001b[0;34m(\u001b[0m\u001b[0mchunk\u001b[0m\u001b[0;34m)\u001b[0m\u001b[0;34m\u001b[0m\u001b[0;34m\u001b[0m\u001b[0m\n\u001b[1;32m    381\u001b[0m             \u001b[0;32mif\u001b[0m \u001b[0mn\u001b[0m \u001b[0;34m==\u001b[0m \u001b[0;36m0\u001b[0m\u001b[0;34m:\u001b[0m\u001b[0;34m\u001b[0m\u001b[0;34m\u001b[0m\u001b[0m\n",
            "\u001b[0;31mKeyboardInterrupt\u001b[0m: "
          ]
        }
      ]
    },
    {
      "cell_type": "code",
      "source": [
        "PATH = './cifar_net.pth'\n",
        "torch.save(net.state_dict(), PATH)"
      ],
      "metadata": {
        "id": "Fi_mKEjn-FWS"
      },
      "execution_count": null,
      "outputs": []
    },
    {
      "cell_type": "markdown",
      "source": [
        "# 5. Test the network on the test data\n",
        "\n",
        "We have trained the network for 2 passes over the training dataset. But we need to check if the network has learnt anything at all.\n",
        "\n",
        "We will check this by predicting the class label that the neural network outputs, and checking it against the ground-truth. If the prediction is correct, we add the sample to the list of correct predictions.\n",
        "\n",
        "Okay, first step. Let us display an image from the test set to get familiar."
      ],
      "metadata": {
        "id": "GpHQ8b7g-Hs1"
      }
    },
    {
      "cell_type": "code",
      "source": [
        "dataiter = iter(testloader)\n",
        "images, labels = next(dataiter)\n",
        "\n",
        "# print images\n",
        "imshow(torchvision.utils.make_grid(images))\n",
        "print('GroundTruth: ', ' '.join(f'{classes[labels[j]]:5s}' for j in range(4)))"
      ],
      "metadata": {
        "colab": {
          "base_uri": "https://localhost:8080/",
          "height": 155
        },
        "id": "oYi2f1Oa-Iss",
        "outputId": "2674fc4a-e4de-41b7-f46e-764ff3117240"
      },
      "execution_count": null,
      "outputs": [
        {
          "output_type": "display_data",
          "data": {
            "text/plain": [
              "<Figure size 432x288 with 1 Axes>"
            ],
            "image/png": "[encoded data removed]"
          },
          "metadata": {
            "needs_background": "light"
          }
        },
        {
          "output_type": "stream",
          "name": "stdout",
          "text": [
            "GroundTruth:  cat   ship  ship  plane\n"
          ]
        }
      ]
    },
    {
      "cell_type": "markdown",
      "source": [
        "For education, load back in our saved model (note: saving and re-loading the model wasn’t necessary)"
      ],
      "metadata": {
        "id": "xbUNir_m-R3w"
      }
    },
    {
      "cell_type": "code",
      "source": [
        "net = Net()\n",
        "net.load_state_dict(torch.load(PATH))"
      ],
      "metadata": {
        "colab": {
          "base_uri": "https://localhost:8080/"
        },
        "id": "JeJ3Edbo-STg",
        "outputId": "783591c5-bf6a-4ac7-d8b9-fd21fca57707"
      },
      "execution_count": null,
      "outputs": [
        {
          "output_type": "execute_result",
          "data": {
            "text/plain": [
              "<All keys matched successfully>"
            ]
          },
          "metadata": {},
          "execution_count": 9
        }
      ]
    },
    {
      "cell_type": "code",
      "source": [
        "outputs = net(images)"
      ],
      "metadata": {
        "id": "cmB1ch9C-qDj"
      },
      "execution_count": null,
      "outputs": []
    },
    {
      "cell_type": "code",
      "source": [
        "_, predicted = torch.max(outputs, 1)\n",
        "\n",
        "print('Predicted: ', ' '.join(f'{classes[predicted[j]]:5s}'\n",
        "                              for j in range(4)))"
      ],
      "metadata": {
        "colab": {
          "base_uri": "https://localhost:8080/"
        },
        "id": "cvpJLU59-rqu",
        "outputId": "bdbb021a-3eac-4976-9b59-d96c280177ac"
      },
      "execution_count": null,
      "outputs": [
        {
          "output_type": "stream",
          "name": "stdout",
          "text": [
            "Predicted:  cat   plane ship  plane\n"
          ]
        }
      ]
    },
    {
      "cell_type": "code",
      "source": [
        "correct = 0\n",
        "total = 0\n",
        "# since we're not training, we don't need to calculate the gradients for our outputs\n",
        "with torch.no_grad():\n",
        "    for data in testloader:\n",
        "        images, labels = data\n",
        "        # calculate outputs by running images through the network\n",
        "        outputs = net(images)\n",
        "        # the class with the highest energy is what we choose as prediction\n",
        "        _, predicted = torch.max(outputs.data, 1)\n",
        "        total += labels.size(0)\n",
        "        correct += (predicted == labels).sum().item()\n",
        "\n",
        "print(f'Accuracy of the network on the 10000 test images: {100 * correct // total} %')"
      ],
      "metadata": {
        "colab": {
          "base_uri": "https://localhost:8080/"
        },
        "id": "zT7dbB88-tRI",
        "outputId": "a790c01a-73e1-46eb-cf14-6b2dc1f06368"
      },
      "execution_count": null,
      "outputs": [
        {
          "output_type": "stream",
          "name": "stdout",
          "text": [
            "Accuracy of the network on the 10000 test images: 52 %\n"
          ]
        }
      ]
    },
    {
      "cell_type": "markdown",
      "source": [
        "Check accuracy for each classes correct prediction"
      ],
      "metadata": {
        "id": "sRcjtVPS-41V"
      }
    },
    {
      "cell_type": "code",
      "source": [
        "# prepare to count predictions for each class\n",
        "correct_pred = {classname: 0 for classname in classes}\n",
        "total_pred = {classname: 0 for classname in classes}\n",
        "\n",
        "# again no gradients needed\n",
        "with torch.no_grad():\n",
        "    for data in testloader:\n",
        "        images, labels = data\n",
        "        outputs = net(images)\n",
        "        _, predictions = torch.max(outputs, 1)\n",
        "        # collect the correct predictions for each class\n",
        "        for label, prediction in zip(labels, predictions):\n",
        "            if label == prediction:\n",
        "                correct_pred[classes[label]] += 1\n",
        "            total_pred[classes[label]] += 1\n",
        "\n",
        "\n",
        "# print accuracy for each class\n",
        "for classname, correct_count in correct_pred.items():\n",
        "    accuracy = 100 * float(correct_count) / total_pred[classname]\n",
        "    print(f'Accuracy for class: {classname:5s} is {accuracy:.1f} %')"
      ],
      "metadata": {
        "colab": {
          "base_uri": "https://localhost:8080/"
        },
        "id": "7fSi5z45-5Mc",
        "outputId": "d8c06372-4980-46df-9e40-82feade5559f"
      },
      "execution_count": null,
      "outputs": [
        {
          "output_type": "stream",
          "name": "stdout",
          "text": [
            "Accuracy for class: plane is 57.2 %\n",
            "Accuracy for class: car   is 65.8 %\n",
            "Accuracy for class: bird  is 58.7 %\n",
            "Accuracy for class: cat   is 30.6 %\n",
            "Accuracy for class: deer  is 46.6 %\n",
            "Accuracy for class: dog   is 53.2 %\n",
            "Accuracy for class: frog  is 55.2 %\n",
            "Accuracy for class: horse is 47.7 %\n",
            "Accuracy for class: ship  is 69.2 %\n",
            "Accuracy for class: truck is 39.6 %\n"
          ]
        }
      ]
    },
    {
      "cell_type": "markdown",
      "source": [
        "# Training on GPU"
      ],
      "metadata": {
        "id": "h2LJHfj7_O-1"
      }
    },
    {
      "cell_type": "markdown",
      "source": [
        "Just like how you transfer a Tensor onto the GPU, you transfer the neural net onto the GPU.\n",
        "\n",
        "Let’s first define our device as the first visible cuda device if we have CUDA available:"
      ],
      "metadata": {
        "id": "cza2582w_mEl"
      }
    },
    {
      "cell_type": "code",
      "source": [
        "device = torch.device('cuda:0' if torch.cuda.is_available() else 'cpu')\n",
        "\n",
        "# Assuming that we are on a CUDA machine, this should print a CUDA device:\n",
        "\n",
        "print(device)"
      ],
      "metadata": {
        "colab": {
          "base_uri": "https://localhost:8080/"
        },
        "id": "ZxltZgr-_QNq",
        "outputId": "f10eccaf-841c-44d4-8428-9d35cbc42d23"
      },
      "execution_count": null,
      "outputs": [
        {
          "output_type": "stream",
          "name": "stdout",
          "text": [
            "cpu\n"
          ]
        }
      ]
    },
    {
      "cell_type": "markdown",
      "source": [
        "The rest of this section assumes that device is a CUDA device.\n",
        "\n",
        "Then these methods will recursively go over all modules and convert their parameters and buffers to CUDA tensors:"
      ],
      "metadata": {
        "id": "jEAlldcu_rph"
      }
    },
    {
      "cell_type": "code",
      "source": [
        "net.to(device)"
      ],
      "metadata": {
        "colab": {
          "base_uri": "https://localhost:8080/"
        },
        "id": "p_LWxUNy_r5t",
        "outputId": "60526a11-e13d-4a26-bf4b-f807ed9385d7"
      },
      "execution_count": null,
      "outputs": [
        {
          "output_type": "execute_result",
          "data": {
            "text/plain": [
              "Net(\n",
              "  (conv1): Conv2d(3, 6, kernel_size=(5, 5), stride=(1, 1))\n",
              "  (pool): MaxPool2d(kernel_size=2, stride=2, padding=0, dilation=1, ceil_mode=False)\n",
              "  (conv2): Conv2d(6, 16, kernel_size=(5, 5), stride=(1, 1))\n",
              "  (fc1): Linear(in_features=400, out_features=120, bias=True)\n",
              "  (fc2): Linear(in_features=120, out_features=84, bias=True)\n",
              "  (fc3): Linear(in_features=84, out_features=10, bias=True)\n",
              ")"
            ]
          },
          "metadata": {},
          "execution_count": 15
        }
      ]
    },
    {
      "cell_type": "code",
      "source": [
        "# inputs, labels = data[0].to(device), data[1].to(device)\n",
        "epochs=2\n",
        "\n",
        "for epoch in tqdm(range(int(epochs)),desc='Training Epochs'):  # loop over the dataset multiple times\n",
        "\n",
        "    running_loss = 0.0\n",
        "    for i, data in enumerate(trainloader, 0):\n",
        "        # get the inputs; data is a list of [inputs, labels]\n",
        "        inputs, labels = data[0].to(device), data[1].to(device)\n",
        "\n",
        "        # zero the parameter gradients\n",
        "        optimizer.zero_grad()\n",
        "\n",
        "        # forward + backward + optimize\n",
        "        outputs = net(inputs)\n",
        "        loss = criterion(outputs, labels)\n",
        "        loss.backward()\n",
        "        optimizer.step()\n",
        "\n",
        "        # print statistics\n",
        "        running_loss += loss.item()\n",
        "        if i % 2000 == 1999:    # print every 2000 mini-batches\n",
        "            print(f'[{epoch + 1}, {i + 1:5d}] loss: {running_loss / 2000:.3f}')\n",
        "            running_loss = 0.0\n",
        "\n",
        "print('Finished Training')"
      ],
      "metadata": {
        "colab": {
          "base_uri": "https://localhost:8080/"
        },
        "id": "FKPpKqp4_zgr",
        "outputId": "b997d60f-6416-46d8-af22-fe4ee7e39a66"
      },
      "execution_count": null,
      "outputs": [
        {
          "output_type": "stream",
          "name": "stderr",
          "text": [
            "\rTraining Epochs:   0%|          | 0/2 [00:00<?, ?it/s]"
          ]
        },
        {
          "output_type": "stream",
          "name": "stdout",
          "text": [
            "[1,  2000] loss: 1.234\n",
            "[1,  4000] loss: 1.225\n",
            "[1,  6000] loss: 1.244\n",
            "[1,  8000] loss: 1.225\n",
            "[1, 10000] loss: 1.240\n",
            "[1, 12000] loss: 1.240\n"
          ]
        },
        {
          "output_type": "stream",
          "name": "stderr",
          "text": [
            "\rTraining Epochs:  50%|█████     | 1/2 [01:09<01:09, 70.00s/it]"
          ]
        },
        {
          "output_type": "stream",
          "name": "stdout",
          "text": [
            "[2,  2000] loss: 1.236\n",
            "[2,  4000] loss: 1.237\n",
            "[2,  6000] loss: 1.216\n",
            "[2,  8000] loss: 1.250\n",
            "[2, 10000] loss: 1.235\n",
            "[2, 12000] loss: 1.230\n"
          ]
        },
        {
          "output_type": "stream",
          "name": "stderr",
          "text": [
            "Training Epochs: 100%|██████████| 2/2 [02:13<00:00, 66.58s/it]"
          ]
        },
        {
          "output_type": "stream",
          "name": "stdout",
          "text": [
            "Finished Training\n"
          ]
        },
        {
          "output_type": "stream",
          "name": "stderr",
          "text": [
            "\n"
          ]
        }
      ]
    }
  ]
}